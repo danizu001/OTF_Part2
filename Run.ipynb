{
 "cells": [
  {
   "cell_type": "code",
   "execution_count": 1,
   "id": "0c382ea0",
   "metadata": {},
   "outputs": [],
   "source": [
    "import Extract\n",
    "import Transform\n",
    "import Load"
   ]
  },
  {
   "cell_type": "code",
   "execution_count": 2,
   "id": "69111ecc",
   "metadata": {},
   "outputs": [
    {
     "name": "stdout",
     "output_type": "stream",
     "text": [
      "       id                 createdAt                 updatedAt  archived  \\\n",
      "0  416102  2023-05-15T02:39:02.002Z  2023-07-02T03:21:09.194Z     False   \n",
      "1  413403  2023-05-15T02:39:02.003Z  2023-07-02T03:17:41.474Z     False   \n",
      "2  417951  2023-05-15T02:39:02.003Z  2023-07-02T03:12:00.570Z     False   \n",
      "3  419852  2023-05-15T02:39:02.003Z  2023-07-02T03:17:47.964Z     False   \n",
      "4  425352  2023-05-15T02:39:02.003Z  2023-07-02T03:16:09.371Z     False   \n",
      "\n",
      "             properties.address properties.country     properties.createdate  \\\n",
      "0          Blackpool  Rue, 6576          Waterford  2023-05-15T02:39:02.002Z   \n",
      "1       Parkfield  Avenue, 5340            Ireland  2023-05-15T02:39:02.003Z   \n",
      "2           Abourne   Lane, 876            Ireland  2023-05-15T02:39:02.003Z   \n",
      "3  Chester      Crossroad, 7070             Dublin  2023-05-15T02:39:02.003Z   \n",
      "4     Tilloch   Crossroad, 8332             Dublin  2023-05-15T02:39:02.003Z   \n",
      "\n",
      "  properties.firstname properties.hs_object_id   properties.industry  \\\n",
      "0                  Zoe                  416102      Poultry and fish   \n",
      "1                 Zara                  413403  Fruit and vegetables   \n",
      "2                 Zara                  417951               Milling   \n",
      "3               Winnie                  419852        Dairy products   \n",
      "4                  Zoe                  425352                  Meat   \n",
      "\n",
      "  properties.lastmodifieddate properties.lastname properties.phone  \\\n",
      "0    2023-07-02T03:21:09.194Z                Owen    0-774-386-624   \n",
      "1    2023-07-02T03:17:41.474Z             Rodwell    6-777-367-783   \n",
      "2    2023-07-02T03:12:00.570Z            Freeburn    5-618-556-540   \n",
      "3    2023-07-02T03:17:47.964Z              Walter    1-161-604-327   \n",
      "4    2023-07-02T03:16:09.371Z                Owen    5-645-416-200   \n",
      "\n",
      "                                properties.raw_email  \\\n",
      "0    Zoe <zoe_owen450104633@acrit.org> Contact Info.   \n",
      "1  Zara <zara_rodwell1398442854@nickia.com> Conta...   \n",
      "2  Zara <zara_freeburn1593147546@gmail.com> Conta...   \n",
      "3  Winnie <winnie_walter538064895@sheye.org> Cont...   \n",
      "4  Zoe <zoe_owen1652446013@bungar.biz> Contact Info.   \n",
      "\n",
      "  properties.technical_test___create_date  \n",
      "0                              2021-07-13  \n",
      "1                              2021-01-09  \n",
      "2                              2021-08-30  \n",
      "3                              2021-02-10  \n",
      "4                              2021-11-02  \n"
     ]
    }
   ],
   "source": [
    "extracted_data=Extract.call()\n",
    "print(extracted_data.head())#Print the data as documentation"
   ]
  },
  {
   "cell_type": "code",
   "execution_count": 3,
   "id": "22b1f07c",
   "metadata": {
    "scrolled": true
   },
   "outputs": [
    {
     "name": "stdout",
     "output_type": "stream",
     "text": [
      "     temporary_id        firstname                                 email  \\\n",
      "3418       446602     Henry Larsen      henry_larsen779365667@nimogy.biz   \n",
      "4514       452765     Denny Martin       denny_martin612117926@acrit.org   \n",
      "4504       444240      Denny Lakey  denny_lakey983015113@infotech44.tech   \n",
      "26         412907  William Neville  william_neville1250658506@ovock.tech   \n",
      "6389       462407      Danny Ellis        danny_ellis24327412@elnee.tech   \n",
      "\n",
      "             country      city           phone  \\\n",
      "3418         England             +443720201052   \n",
      "4514  United Kingdom    Oxford   +442305713056   \n",
      "4504   United States  Limerick    +18554063801   \n",
      "26           Ireland      Cork  +3536504663843   \n",
      "6389  United Kingdom    Oxford   +442216511703   \n",
      "\n",
      "                       original_industry original_create_date  \n",
      "3418   ;Bakery products;Poultry and fish           2021-12-29  \n",
      "4514      ;Poultry and fish;Animal feeds           2021-03-06  \n",
      "4504       ;Milling;Fruit and vegetables           2021-08-29  \n",
      "26    ;Fruit and vegetables;Animal feeds           2021-05-22  \n",
      "6389               ;Fruit and vegetables           2021-04-14  \n"
     ]
    }
   ],
   "source": [
    "transformed_data=Transform.call()\n",
    "print(transformed_data.head())#Print the data as documentation"
   ]
  },
  {
   "cell_type": "code",
   "execution_count": 4,
   "id": "8023c40d",
   "metadata": {},
   "outputs": [
    {
     "name": "stdout",
     "output_type": "stream",
     "text": [
      "finish\n"
     ]
    }
   ],
   "source": [
    "Load.call()# If we run it again we will have an http error, we need delete the data of hubspot.\n",
    "#also I keep the private key of my app inside the library Load\n",
    "#You can see the result in the image on github Hubspot_image.png"
   ]
  },
  {
   "cell_type": "code",
   "execution_count": null,
   "id": "7dcb3858",
   "metadata": {},
   "outputs": [],
   "source": []
  },
  {
   "cell_type": "code",
   "execution_count": null,
   "id": "48ab4cf9",
   "metadata": {},
   "outputs": [],
   "source": []
  }
 ],
 "metadata": {
  "kernelspec": {
   "display_name": "Python 3 (ipykernel)",
   "language": "python",
   "name": "python3"
  },
  "language_info": {
   "codemirror_mode": {
    "name": "ipython",
    "version": 3
   },
   "file_extension": ".py",
   "mimetype": "text/x-python",
   "name": "python",
   "nbconvert_exporter": "python",
   "pygments_lexer": "ipython3",
   "version": "3.10.9"
  }
 },
 "nbformat": 4,
 "nbformat_minor": 5
}
