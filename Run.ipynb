{
 "cells": [
  {
   "cell_type": "code",
   "execution_count": 1,
   "id": "0c382ea0",
   "metadata": {},
   "outputs": [],
   "source": [
    "import Extract\n",
    "import Transform\n",
    "import Load"
   ]
  },
  {
   "cell_type": "code",
   "execution_count": 2,
   "id": "69111ecc",
   "metadata": {},
   "outputs": [
    {
     "name": "stdout",
     "output_type": "stream",
     "text": [
      "       id                 createdAt                 updatedAt  archived  \\\n",
      "0  416102  2023-05-15T02:39:02.002Z  2023-07-02T03:21:09.194Z     False   \n",
      "1  413403  2023-05-15T02:39:02.003Z  2023-07-02T03:17:41.474Z     False   \n",
      "2  417951  2023-05-15T02:39:02.003Z  2023-07-02T03:12:00.570Z     False   \n",
      "3  419852  2023-05-15T02:39:02.003Z  2023-07-02T03:17:47.964Z     False   \n",
      "4  425352  2023-05-15T02:39:02.003Z  2023-07-02T03:16:09.371Z     False   \n",
      "\n",
      "             properties.address properties.country     properties.createdate  \\\n",
      "0          Blackpool  Rue, 6576          Waterford  2023-05-15T02:39:02.002Z   \n",
      "1       Parkfield  Avenue, 5340            Ireland  2023-05-15T02:39:02.003Z   \n",
      "2           Abourne   Lane, 876            Ireland  2023-05-15T02:39:02.003Z   \n",
      "3  Chester      Crossroad, 7070             Dublin  2023-05-15T02:39:02.003Z   \n",
      "4     Tilloch   Crossroad, 8332             Dublin  2023-05-15T02:39:02.003Z   \n",
      "\n",
      "  properties.firstname properties.hs_object_id   properties.industry  \\\n",
      "0                  Zoe                  416102      Poultry and fish   \n",
      "1                 Zara                  413403  Fruit and vegetables   \n",
      "2                 Zara                  417951               Milling   \n",
      "3               Winnie                  419852        Dairy products   \n",
      "4                  Zoe                  425352                  Meat   \n",
      "\n",
      "  properties.lastmodifieddate properties.lastname properties.phone  \\\n",
      "0    2023-07-02T03:21:09.194Z                Owen    0-774-386-624   \n",
      "1    2023-07-02T03:17:41.474Z             Rodwell    6-777-367-783   \n",
      "2    2023-07-02T03:12:00.570Z            Freeburn    5-618-556-540   \n",
      "3    2023-07-02T03:17:47.964Z              Walter    1-161-604-327   \n",
      "4    2023-07-02T03:16:09.371Z                Owen    5-645-416-200   \n",
      "\n",
      "                                properties.raw_email  \\\n",
      "0    Zoe <zoe_owen450104633@acrit.org> Contact Info.   \n",
      "1  Zara <zara_rodwell1398442854@nickia.com> Conta...   \n",
      "2  Zara <zara_freeburn1593147546@gmail.com> Conta...   \n",
      "3  Winnie <winnie_walter538064895@sheye.org> Cont...   \n",
      "4  Zoe <zoe_owen1652446013@bungar.biz> Contact Info.   \n",
      "\n",
      "  properties.technical_test___create_date  \n",
      "0                              2021-07-13  \n",
      "1                              2021-01-09  \n",
      "2                              2021-08-30  \n",
      "3                              2021-02-10  \n",
      "4                              2021-11-02  \n"
     ]
    }
   ],
   "source": [
    "extracted_data=Extract.call()\n",
    "print(extracted_data.head())#Print the data as documentation"
   ]
  },
  {
   "cell_type": "code",
   "execution_count": 3,
   "id": "22b1f07c",
   "metadata": {
    "scrolled": true
   },
   "outputs": [
    {
     "name": "stdout",
     "output_type": "stream",
     "text": [
      "     temporary_id        firstname                                 email  \\\n",
      "3058       425848     John Vallory      john_vallory1184653308@brety.org   \n",
      "664        413063    Ruby Donnelly     ruby_donnelly1666746478@gmail.com   \n",
      "4279       448553  Elijah Atkinson  elijah_atkinson1926359992@nanoff.biz   \n",
      "3605       444821     Harry Thomas     harry_thomas1268165352@nickia.com   \n",
      "6533       457926    Lara Shepherd    lara_shepherd1933970335@bauros.biz   \n",
      "\n",
      "             country       city           phone  \\\n",
      "3058         Ireland   Limerick  +3535068605531   \n",
      "664          Ireland  Waterford  +3535471416205   \n",
      "4279         England              +443887401154   \n",
      "3605  United Kingdom     London    +44420342324   \n",
      "6533         Ireland   Limerick   +353450637875   \n",
      "\n",
      "                                   original_industry original_create_date  \n",
      "3058         ;Dairy products;Milling;Bakery products           2021-12-05  \n",
      "664                          ;Dairy products;Milling           2021-11-28  \n",
      "4279                   ;Animal feeds;Bakery products           2021-09-07  \n",
      "3605  ;Fruit and vegetables;Poultry and fish;Milling           2021-03-23  \n",
      "6533                                   ;Animal feeds           2021-02-08  \n"
     ]
    }
   ],
   "source": [
    "transformed_data=Transform.call()\n",
    "print(transformed_data.head())#Print the data as documentation"
   ]
  },
  {
   "cell_type": "code",
   "execution_count": 5,
   "id": "8023c40d",
   "metadata": {},
   "outputs": [
    {
     "name": "stdout",
     "output_type": "stream",
     "text": [
      "finish\n"
     ]
    }
   ],
   "source": [
    "Load.call()# If we run it again we will have an http error, we need delete the data of hubspot.\n",
    "#also I keep the private key of my app inside the library Load\n",
    "#You can see the result in the image on github Hubspot_image.png"
   ]
  }
 ],
 "metadata": {
  "kernelspec": {
   "display_name": "Python 3 (ipykernel)",
   "language": "python",
   "name": "python3"
  },
  "language_info": {
   "codemirror_mode": {
    "name": "ipython",
    "version": 3
   },
   "file_extension": ".py",
   "mimetype": "text/x-python",
   "name": "python",
   "nbconvert_exporter": "python",
   "pygments_lexer": "ipython3",
   "version": "3.10.9"
  }
 },
 "nbformat": 4,
 "nbformat_minor": 5
}
